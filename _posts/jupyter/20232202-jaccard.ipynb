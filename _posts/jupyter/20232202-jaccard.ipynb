{
 "cells": [
  {
   "attachments": {},
   "cell_type": "markdown",
   "metadata": {},
   "source": [
    "# The Jaccard similarity coefficient"
   ]
  },
  {
   "attachments": {},
   "cell_type": "markdown",
   "metadata": {},
   "source": [
    "Hi, i pretend make a very simple explication about the jaccard index: is a measure of simmilarity, basically measure the similitude between 2 sets of information. The Jaccard similarity coefficient, it was created by Grove Karl Gilbert in 1884 and have the most diverse applications from [conductual research](https://basurafernando.github.io/papers/AnticipationCVPR21.pdf) to [single-cell cluster stability](https://pubmed.ncbi.nlm.nih.gov/33165513/), passing evidently by the NPL. To understand clearly is necesary study a little bit of set theory, or if you are a SQL coder can be interpretated as the measure of a inner join.\n",
    "\n",
    "![Venn](https://github.com/devicemxl/devicemxl.github.io/blob/master/_posts/imgs/20232202jaccard.002.png?raw=true)"
   ]
  },
  {
   "attachments": {},
   "cell_type": "markdown",
   "metadata": {},
   "source": [
    "I know sometimes is very innecesary learn all that things, sure?"
   ]
  },
  {
   "attachments": {},
   "cell_type": "markdown",
   "metadata": {},
   "source": [
    "### To start\n",
    "\n",
    "In python we need to define two sets, evidently over load the libraries."
   ]
  },
  {
   "cell_type": "code",
   "execution_count": 5,
   "metadata": {},
   "outputs": [],
   "source": [
    "# If you dont have the libraries, uncomment each faltant and run\n",
    "#!pip install matplotlib --user --upgrade\n",
    "#!pip install matplotlib_venn --user --upgrade"
   ]
  },
  {
   "cell_type": "code",
   "execution_count": 4,
   "metadata": {},
   "outputs": [],
   "source": [
    "# libraries\n",
    "import matplotlib.pyplot as plt\n",
    "import matplotlib_venn as venn"
   ]
  },
  {
   "cell_type": "code",
   "execution_count": 7,
   "metadata": {},
   "outputs": [],
   "source": [
    "GroupA = {1, 2, 3}\n",
    "GroupB = {3, 4, 5}"
   ]
  },
  {
   "cell_type": "code",
   "execution_count": 8,
   "metadata": {},
   "outputs": [
    {
     "data": {
      "image/png": "[encoded data removed]",
      "text/plain": [
       "<Figure size 640x480 with 1 Axes>"
      ]
     },
     "metadata": {},
     "output_type": "display_data"
    }
   ],
   "source": [
    "venn.venn2([GroupA, GroupB], set_labels=('Group A','GroupB'))\n",
    "plt.show()"
   ]
  },
  {
   "cell_type": "code",
   "execution_count": 9,
   "metadata": {},
   "outputs": [
    {
     "name": "stdout",
     "output_type": "stream",
     "text": [
      "Intersection of GroupA and GroupB: {3}\n"
     ]
    }
   ],
   "source": [
    "# Intersection method\n",
    "#\n",
    "Intersection = GroupA.intersection(GroupB)\n",
    "print(\"Intersection of GroupA and GroupB:\", Intersection)"
   ]
  },
  {
   "cell_type": "code",
   "execution_count": 12,
   "metadata": {},
   "outputs": [
    {
     "data": {
      "text/plain": [
       "0.2"
      ]
     },
     "execution_count": 12,
     "metadata": {},
     "output_type": "execute_result"
    }
   ],
   "source": [
    "len(Intersection) / ( len(GroupA) + len(GroupB) - len(Intersection) )"
   ]
  },
  {
   "cell_type": "markdown",
   "metadata": {},
   "source": [
    "Of course generally you need to compare list of items, then you need make loop in the Source list to compare in each record of the comparison list"
   ]
  }
 ],
 "metadata": {
  "kernelspec": {
   "display_name": "Python 3",
   "language": "python",
   "name": "python3"
  },
  "language_info": {
   "codemirror_mode": {
    "name": "ipython",
    "version": 3
   },
   "file_extension": ".py",
   "mimetype": "text/x-python",
   "name": "python",
   "nbconvert_exporter": "python",
   "pygments_lexer": "ipython3",
   "version": "3.11.0"
  },
  "orig_nbformat": 4,
  "vscode": {
   "interpreter": {
    "hash": "c261aea317cc0286b3b3261fbba9abdec21eaa57589985bb7a274bf54d6cc0a7"
   }
  }
 },
 "nbformat": 4,
 "nbformat_minor": 2
}
